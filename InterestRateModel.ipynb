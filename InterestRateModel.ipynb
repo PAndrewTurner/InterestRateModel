{
 "cells": [
  {
   "cell_type": "code",
   "execution_count": 1,
   "id": "320ed7de-ed2b-4a99-90c0-c24cb7c8e056",
   "metadata": {},
   "outputs": [],
   "source": [
    "import pandas as pd\n",
    "import numpy as np\n",
    "from sklearn import datasets, linear_model, metrics\n",
    "from sklearn.model_selection import train_test_split\n",
    "import matplotlib.pyplot as plt\n",
    "from sklearn.metrics import r2_score\n",
    "import pickle\n",
    "import warnings\n",
    "\n",
    "warnings.simplefilter('ignore')"
   ]
  },
  {
   "cell_type": "code",
   "execution_count": 2,
   "id": "69021eac-1469-4ac0-82e0-cce705ff4985",
   "metadata": {},
   "outputs": [
    {
     "data": {
      "text/html": [
       "<div>\n",
       "<style scoped>\n",
       "    .dataframe tbody tr th:only-of-type {\n",
       "        vertical-align: middle;\n",
       "    }\n",
       "\n",
       "    .dataframe tbody tr th {\n",
       "        vertical-align: top;\n",
       "    }\n",
       "\n",
       "    .dataframe thead th {\n",
       "        text-align: right;\n",
       "    }\n",
       "</style>\n",
       "<table border=\"1\" class=\"dataframe\">\n",
       "  <thead>\n",
       "    <tr style=\"text-align: right;\">\n",
       "      <th></th>\n",
       "      <th>int_rate</th>\n",
       "      <th>annual_inc</th>\n",
       "      <th>dti</th>\n",
       "      <th>delinq_2yrs</th>\n",
       "      <th>fico_range_low</th>\n",
       "      <th>fico_range_high</th>\n",
       "      <th>open_acc</th>\n",
       "      <th>total_acc</th>\n",
       "    </tr>\n",
       "  </thead>\n",
       "  <tbody>\n",
       "    <tr>\n",
       "      <th>0</th>\n",
       "      <td>13.99</td>\n",
       "      <td>55000.0</td>\n",
       "      <td>5.91</td>\n",
       "      <td>0</td>\n",
       "      <td>675</td>\n",
       "      <td>679</td>\n",
       "      <td>7</td>\n",
       "      <td>13</td>\n",
       "    </tr>\n",
       "    <tr>\n",
       "      <th>1</th>\n",
       "      <td>11.99</td>\n",
       "      <td>65000.0</td>\n",
       "      <td>16.06</td>\n",
       "      <td>1</td>\n",
       "      <td>715</td>\n",
       "      <td>719</td>\n",
       "      <td>22</td>\n",
       "      <td>38</td>\n",
       "    </tr>\n",
       "    <tr>\n",
       "      <th>2</th>\n",
       "      <td>10.78</td>\n",
       "      <td>63000.0</td>\n",
       "      <td>10.78</td>\n",
       "      <td>0</td>\n",
       "      <td>695</td>\n",
       "      <td>699</td>\n",
       "      <td>6</td>\n",
       "      <td>18</td>\n",
       "    </tr>\n",
       "    <tr>\n",
       "      <th>3</th>\n",
       "      <td>14.85</td>\n",
       "      <td>110000.0</td>\n",
       "      <td>17.06</td>\n",
       "      <td>0</td>\n",
       "      <td>785</td>\n",
       "      <td>789</td>\n",
       "      <td>13</td>\n",
       "      <td>17</td>\n",
       "    </tr>\n",
       "    <tr>\n",
       "      <th>4</th>\n",
       "      <td>22.45</td>\n",
       "      <td>104433.0</td>\n",
       "      <td>25.37</td>\n",
       "      <td>1</td>\n",
       "      <td>695</td>\n",
       "      <td>699</td>\n",
       "      <td>12</td>\n",
       "      <td>35</td>\n",
       "    </tr>\n",
       "    <tr>\n",
       "      <th>...</th>\n",
       "      <td>...</td>\n",
       "      <td>...</td>\n",
       "      <td>...</td>\n",
       "      <td>...</td>\n",
       "      <td>...</td>\n",
       "      <td>...</td>\n",
       "      <td>...</td>\n",
       "      <td>...</td>\n",
       "    </tr>\n",
       "    <tr>\n",
       "      <th>1047702</th>\n",
       "      <td>16.29</td>\n",
       "      <td>45000.0</td>\n",
       "      <td>33.76</td>\n",
       "      <td>0</td>\n",
       "      <td>675</td>\n",
       "      <td>679</td>\n",
       "      <td>9</td>\n",
       "      <td>15</td>\n",
       "    </tr>\n",
       "    <tr>\n",
       "      <th>1047703</th>\n",
       "      <td>11.47</td>\n",
       "      <td>135000.0</td>\n",
       "      <td>26.41</td>\n",
       "      <td>1</td>\n",
       "      <td>665</td>\n",
       "      <td>669</td>\n",
       "      <td>22</td>\n",
       "      <td>37</td>\n",
       "    </tr>\n",
       "    <tr>\n",
       "      <th>1047704</th>\n",
       "      <td>10.75</td>\n",
       "      <td>70000.0</td>\n",
       "      <td>21.67</td>\n",
       "      <td>0</td>\n",
       "      <td>710</td>\n",
       "      <td>714</td>\n",
       "      <td>16</td>\n",
       "      <td>30</td>\n",
       "    </tr>\n",
       "    <tr>\n",
       "      <th>1047705</th>\n",
       "      <td>7.89</td>\n",
       "      <td>31500.0</td>\n",
       "      <td>25.98</td>\n",
       "      <td>0</td>\n",
       "      <td>715</td>\n",
       "      <td>719</td>\n",
       "      <td>11</td>\n",
       "      <td>35</td>\n",
       "    </tr>\n",
       "    <tr>\n",
       "      <th>1047706</th>\n",
       "      <td>6.49</td>\n",
       "      <td>65000.0</td>\n",
       "      <td>8.33</td>\n",
       "      <td>0</td>\n",
       "      <td>755</td>\n",
       "      <td>759</td>\n",
       "      <td>7</td>\n",
       "      <td>17</td>\n",
       "    </tr>\n",
       "  </tbody>\n",
       "</table>\n",
       "<p>1047707 rows × 8 columns</p>\n",
       "</div>"
      ],
      "text/plain": [
       "         int_rate  annual_inc    dti  delinq_2yrs  fico_range_low  \\\n",
       "0           13.99     55000.0   5.91            0             675   \n",
       "1           11.99     65000.0  16.06            1             715   \n",
       "2           10.78     63000.0  10.78            0             695   \n",
       "3           14.85    110000.0  17.06            0             785   \n",
       "4           22.45    104433.0  25.37            1             695   \n",
       "...           ...         ...    ...          ...             ...   \n",
       "1047702     16.29     45000.0  33.76            0             675   \n",
       "1047703     11.47    135000.0  26.41            1             665   \n",
       "1047704     10.75     70000.0  21.67            0             710   \n",
       "1047705      7.89     31500.0  25.98            0             715   \n",
       "1047706      6.49     65000.0   8.33            0             755   \n",
       "\n",
       "         fico_range_high  open_acc  total_acc  \n",
       "0                    679         7         13  \n",
       "1                    719        22         38  \n",
       "2                    699         6         18  \n",
       "3                    789        13         17  \n",
       "4                    699        12         35  \n",
       "...                  ...       ...        ...  \n",
       "1047702              679         9         15  \n",
       "1047703              669        22         37  \n",
       "1047704              714        16         30  \n",
       "1047705              719        11         35  \n",
       "1047706              759         7         17  \n",
       "\n",
       "[1047707 rows x 8 columns]"
      ]
     },
     "execution_count": 2,
     "metadata": {},
     "output_type": "execute_result"
    }
   ],
   "source": [
    "acceptedData = pd.read_csv('accepted_2007_to_2018Q4.csv', low_memory=False)\n",
    "acceptedData.dropna()"
   ]
  },
  {
   "cell_type": "code",
   "execution_count": 3,
   "id": "326d8c60-ff01-424a-a666-a50576db33a5",
   "metadata": {},
   "outputs": [
    {
     "data": {
      "text/plain": [
       "Index(['int_rate', 'annual_inc', 'dti', 'delinq_2yrs', 'fico_range_low',\n",
       "       'fico_range_high', 'open_acc', 'total_acc'],\n",
       "      dtype='object')"
      ]
     },
     "execution_count": 3,
     "metadata": {},
     "output_type": "execute_result"
    }
   ],
   "source": [
    "acceptedData.columns"
   ]
  },
  {
   "cell_type": "code",
   "execution_count": 4,
   "id": "d910bf3c-1836-4e97-ab62-806e9631e07a",
   "metadata": {},
   "outputs": [],
   "source": [
    "y = acceptedData['int_rate']\n",
    "X = acceptedData[['annual_inc', 'dti', 'delinq_2yrs', 'fico_range_low', 'open_acc', 'total_acc']]"
   ]
  },
  {
   "cell_type": "code",
   "execution_count": 5,
   "id": "09ab4a2d-f55c-4997-8cca-f83c411f9ea2",
   "metadata": {},
   "outputs": [
    {
     "data": {
      "text/plain": [
       "0          13.99\n",
       "1          11.99\n",
       "2          10.78\n",
       "3          14.85\n",
       "4          22.45\n",
       "           ...  \n",
       "1047702    16.29\n",
       "1047703    11.47\n",
       "1047704    10.75\n",
       "1047705     7.89\n",
       "1047706     6.49\n",
       "Name: int_rate, Length: 1047707, dtype: float64"
      ]
     },
     "execution_count": 5,
     "metadata": {},
     "output_type": "execute_result"
    }
   ],
   "source": [
    "y"
   ]
  },
  {
   "cell_type": "code",
   "execution_count": 6,
   "id": "4f022300-54e7-40b9-bc90-9025d87d94aa",
   "metadata": {},
   "outputs": [
    {
     "data": {
      "text/html": [
       "<div>\n",
       "<style scoped>\n",
       "    .dataframe tbody tr th:only-of-type {\n",
       "        vertical-align: middle;\n",
       "    }\n",
       "\n",
       "    .dataframe tbody tr th {\n",
       "        vertical-align: top;\n",
       "    }\n",
       "\n",
       "    .dataframe thead th {\n",
       "        text-align: right;\n",
       "    }\n",
       "</style>\n",
       "<table border=\"1\" class=\"dataframe\">\n",
       "  <thead>\n",
       "    <tr style=\"text-align: right;\">\n",
       "      <th></th>\n",
       "      <th>annual_inc</th>\n",
       "      <th>dti</th>\n",
       "      <th>delinq_2yrs</th>\n",
       "      <th>fico_range_low</th>\n",
       "      <th>open_acc</th>\n",
       "      <th>total_acc</th>\n",
       "    </tr>\n",
       "  </thead>\n",
       "  <tbody>\n",
       "    <tr>\n",
       "      <th>0</th>\n",
       "      <td>55000.0</td>\n",
       "      <td>5.91</td>\n",
       "      <td>0</td>\n",
       "      <td>675</td>\n",
       "      <td>7</td>\n",
       "      <td>13</td>\n",
       "    </tr>\n",
       "    <tr>\n",
       "      <th>1</th>\n",
       "      <td>65000.0</td>\n",
       "      <td>16.06</td>\n",
       "      <td>1</td>\n",
       "      <td>715</td>\n",
       "      <td>22</td>\n",
       "      <td>38</td>\n",
       "    </tr>\n",
       "    <tr>\n",
       "      <th>2</th>\n",
       "      <td>63000.0</td>\n",
       "      <td>10.78</td>\n",
       "      <td>0</td>\n",
       "      <td>695</td>\n",
       "      <td>6</td>\n",
       "      <td>18</td>\n",
       "    </tr>\n",
       "    <tr>\n",
       "      <th>3</th>\n",
       "      <td>110000.0</td>\n",
       "      <td>17.06</td>\n",
       "      <td>0</td>\n",
       "      <td>785</td>\n",
       "      <td>13</td>\n",
       "      <td>17</td>\n",
       "    </tr>\n",
       "    <tr>\n",
       "      <th>4</th>\n",
       "      <td>104433.0</td>\n",
       "      <td>25.37</td>\n",
       "      <td>1</td>\n",
       "      <td>695</td>\n",
       "      <td>12</td>\n",
       "      <td>35</td>\n",
       "    </tr>\n",
       "    <tr>\n",
       "      <th>...</th>\n",
       "      <td>...</td>\n",
       "      <td>...</td>\n",
       "      <td>...</td>\n",
       "      <td>...</td>\n",
       "      <td>...</td>\n",
       "      <td>...</td>\n",
       "    </tr>\n",
       "    <tr>\n",
       "      <th>1047702</th>\n",
       "      <td>45000.0</td>\n",
       "      <td>33.76</td>\n",
       "      <td>0</td>\n",
       "      <td>675</td>\n",
       "      <td>9</td>\n",
       "      <td>15</td>\n",
       "    </tr>\n",
       "    <tr>\n",
       "      <th>1047703</th>\n",
       "      <td>135000.0</td>\n",
       "      <td>26.41</td>\n",
       "      <td>1</td>\n",
       "      <td>665</td>\n",
       "      <td>22</td>\n",
       "      <td>37</td>\n",
       "    </tr>\n",
       "    <tr>\n",
       "      <th>1047704</th>\n",
       "      <td>70000.0</td>\n",
       "      <td>21.67</td>\n",
       "      <td>0</td>\n",
       "      <td>710</td>\n",
       "      <td>16</td>\n",
       "      <td>30</td>\n",
       "    </tr>\n",
       "    <tr>\n",
       "      <th>1047705</th>\n",
       "      <td>31500.0</td>\n",
       "      <td>25.98</td>\n",
       "      <td>0</td>\n",
       "      <td>715</td>\n",
       "      <td>11</td>\n",
       "      <td>35</td>\n",
       "    </tr>\n",
       "    <tr>\n",
       "      <th>1047706</th>\n",
       "      <td>65000.0</td>\n",
       "      <td>8.33</td>\n",
       "      <td>0</td>\n",
       "      <td>755</td>\n",
       "      <td>7</td>\n",
       "      <td>17</td>\n",
       "    </tr>\n",
       "  </tbody>\n",
       "</table>\n",
       "<p>1047707 rows × 6 columns</p>\n",
       "</div>"
      ],
      "text/plain": [
       "         annual_inc    dti  delinq_2yrs  fico_range_low  open_acc  total_acc\n",
       "0           55000.0   5.91            0             675         7         13\n",
       "1           65000.0  16.06            1             715        22         38\n",
       "2           63000.0  10.78            0             695         6         18\n",
       "3          110000.0  17.06            0             785        13         17\n",
       "4          104433.0  25.37            1             695        12         35\n",
       "...             ...    ...          ...             ...       ...        ...\n",
       "1047702     45000.0  33.76            0             675         9         15\n",
       "1047703    135000.0  26.41            1             665        22         37\n",
       "1047704     70000.0  21.67            0             710        16         30\n",
       "1047705     31500.0  25.98            0             715        11         35\n",
       "1047706     65000.0   8.33            0             755         7         17\n",
       "\n",
       "[1047707 rows x 6 columns]"
      ]
     },
     "execution_count": 6,
     "metadata": {},
     "output_type": "execute_result"
    }
   ],
   "source": [
    "X"
   ]
  },
  {
   "cell_type": "code",
   "execution_count": 7,
   "id": "efe8ab1a-b3a4-47db-b4ca-9df6ab77a25e",
   "metadata": {},
   "outputs": [],
   "source": [
    "X_train, X_test, y_train, y_test = train_test_split(X, y, test_size=0.4, random_state=1)"
   ]
  },
  {
   "cell_type": "code",
   "execution_count": 8,
   "id": "ddfca31b-4014-43dd-b5bd-e8a239bd5633",
   "metadata": {},
   "outputs": [],
   "source": [
    "reg = linear_model.LinearRegression()"
   ]
  },
  {
   "cell_type": "code",
   "execution_count": 9,
   "id": "cb3dff9b-05f2-4827-835f-bd20b1ef9204",
   "metadata": {},
   "outputs": [
    {
     "data": {
      "text/html": [
       "<style>#sk-container-id-1 {color: black;background-color: white;}#sk-container-id-1 pre{padding: 0;}#sk-container-id-1 div.sk-toggleable {background-color: white;}#sk-container-id-1 label.sk-toggleable__label {cursor: pointer;display: block;width: 100%;margin-bottom: 0;padding: 0.3em;box-sizing: border-box;text-align: center;}#sk-container-id-1 label.sk-toggleable__label-arrow:before {content: \"▸\";float: left;margin-right: 0.25em;color: #696969;}#sk-container-id-1 label.sk-toggleable__label-arrow:hover:before {color: black;}#sk-container-id-1 div.sk-estimator:hover label.sk-toggleable__label-arrow:before {color: black;}#sk-container-id-1 div.sk-toggleable__content {max-height: 0;max-width: 0;overflow: hidden;text-align: left;background-color: #f0f8ff;}#sk-container-id-1 div.sk-toggleable__content pre {margin: 0.2em;color: black;border-radius: 0.25em;background-color: #f0f8ff;}#sk-container-id-1 input.sk-toggleable__control:checked~div.sk-toggleable__content {max-height: 200px;max-width: 100%;overflow: auto;}#sk-container-id-1 input.sk-toggleable__control:checked~label.sk-toggleable__label-arrow:before {content: \"▾\";}#sk-container-id-1 div.sk-estimator input.sk-toggleable__control:checked~label.sk-toggleable__label {background-color: #d4ebff;}#sk-container-id-1 div.sk-label input.sk-toggleable__control:checked~label.sk-toggleable__label {background-color: #d4ebff;}#sk-container-id-1 input.sk-hidden--visually {border: 0;clip: rect(1px 1px 1px 1px);clip: rect(1px, 1px, 1px, 1px);height: 1px;margin: -1px;overflow: hidden;padding: 0;position: absolute;width: 1px;}#sk-container-id-1 div.sk-estimator {font-family: monospace;background-color: #f0f8ff;border: 1px dotted black;border-radius: 0.25em;box-sizing: border-box;margin-bottom: 0.5em;}#sk-container-id-1 div.sk-estimator:hover {background-color: #d4ebff;}#sk-container-id-1 div.sk-parallel-item::after {content: \"\";width: 100%;border-bottom: 1px solid gray;flex-grow: 1;}#sk-container-id-1 div.sk-label:hover label.sk-toggleable__label {background-color: #d4ebff;}#sk-container-id-1 div.sk-serial::before {content: \"\";position: absolute;border-left: 1px solid gray;box-sizing: border-box;top: 0;bottom: 0;left: 50%;z-index: 0;}#sk-container-id-1 div.sk-serial {display: flex;flex-direction: column;align-items: center;background-color: white;padding-right: 0.2em;padding-left: 0.2em;position: relative;}#sk-container-id-1 div.sk-item {position: relative;z-index: 1;}#sk-container-id-1 div.sk-parallel {display: flex;align-items: stretch;justify-content: center;background-color: white;position: relative;}#sk-container-id-1 div.sk-item::before, #sk-container-id-1 div.sk-parallel-item::before {content: \"\";position: absolute;border-left: 1px solid gray;box-sizing: border-box;top: 0;bottom: 0;left: 50%;z-index: -1;}#sk-container-id-1 div.sk-parallel-item {display: flex;flex-direction: column;z-index: 1;position: relative;background-color: white;}#sk-container-id-1 div.sk-parallel-item:first-child::after {align-self: flex-end;width: 50%;}#sk-container-id-1 div.sk-parallel-item:last-child::after {align-self: flex-start;width: 50%;}#sk-container-id-1 div.sk-parallel-item:only-child::after {width: 0;}#sk-container-id-1 div.sk-dashed-wrapped {border: 1px dashed gray;margin: 0 0.4em 0.5em 0.4em;box-sizing: border-box;padding-bottom: 0.4em;background-color: white;}#sk-container-id-1 div.sk-label label {font-family: monospace;font-weight: bold;display: inline-block;line-height: 1.2em;}#sk-container-id-1 div.sk-label-container {text-align: center;}#sk-container-id-1 div.sk-container {/* jupyter's `normalize.less` sets `[hidden] { display: none; }` but bootstrap.min.css set `[hidden] { display: none !important; }` so we also need the `!important` here to be able to override the default hidden behavior on the sphinx rendered scikit-learn.org. See: https://github.com/scikit-learn/scikit-learn/issues/21755 */display: inline-block !important;position: relative;}#sk-container-id-1 div.sk-text-repr-fallback {display: none;}</style><div id=\"sk-container-id-1\" class=\"sk-top-container\"><div class=\"sk-text-repr-fallback\"><pre>LinearRegression()</pre><b>In a Jupyter environment, please rerun this cell to show the HTML representation or trust the notebook. <br />On GitHub, the HTML representation is unable to render, please try loading this page with nbviewer.org.</b></div><div class=\"sk-container\" hidden><div class=\"sk-item\"><div class=\"sk-estimator sk-toggleable\"><input class=\"sk-toggleable__control sk-hidden--visually\" id=\"sk-estimator-id-1\" type=\"checkbox\" checked><label for=\"sk-estimator-id-1\" class=\"sk-toggleable__label sk-toggleable__label-arrow\">LinearRegression</label><div class=\"sk-toggleable__content\"><pre>LinearRegression()</pre></div></div></div></div></div>"
      ],
      "text/plain": [
       "LinearRegression()"
      ]
     },
     "execution_count": 9,
     "metadata": {},
     "output_type": "execute_result"
    }
   ],
   "source": [
    "reg.fit(X_train, y_train)"
   ]
  },
  {
   "cell_type": "code",
   "execution_count": 10,
   "id": "0fbfc0ea-13d2-4fd6-870d-a1f1dd6b25d6",
   "metadata": {},
   "outputs": [],
   "source": [
    "val = reg.predict([[97500, 0.30, 0, 720, 12, 18]])"
   ]
  },
  {
   "cell_type": "code",
   "execution_count": 11,
   "id": "f1c15bde-695c-4728-b3a5-c3dbcdcb8223",
   "metadata": {},
   "outputs": [
    {
     "data": {
      "text/plain": [
       "10.949469311154104"
      ]
     },
     "execution_count": 11,
     "metadata": {},
     "output_type": "execute_result"
    }
   ],
   "source": [
    "val = float(val)\n",
    "val"
   ]
  },
  {
   "cell_type": "code",
   "execution_count": 12,
   "id": "bf578034-3e02-496f-be8a-cae1971e1cc0",
   "metadata": {},
   "outputs": [
    {
     "data": {
      "text/plain": [
       "0.1710635194560315"
      ]
     },
     "execution_count": 12,
     "metadata": {},
     "output_type": "execute_result"
    }
   ],
   "source": [
    "r2 = r2_score(y_test, reg.predict(X_test))\n",
    "r2"
   ]
  },
  {
   "cell_type": "code",
   "execution_count": 13,
   "id": "f640bfbf-1743-4643-8820-cff3a7d2bab1",
   "metadata": {},
   "outputs": [
    {
     "data": {
      "text/html": [
       "<style>#sk-container-id-2 {color: black;background-color: white;}#sk-container-id-2 pre{padding: 0;}#sk-container-id-2 div.sk-toggleable {background-color: white;}#sk-container-id-2 label.sk-toggleable__label {cursor: pointer;display: block;width: 100%;margin-bottom: 0;padding: 0.3em;box-sizing: border-box;text-align: center;}#sk-container-id-2 label.sk-toggleable__label-arrow:before {content: \"▸\";float: left;margin-right: 0.25em;color: #696969;}#sk-container-id-2 label.sk-toggleable__label-arrow:hover:before {color: black;}#sk-container-id-2 div.sk-estimator:hover label.sk-toggleable__label-arrow:before {color: black;}#sk-container-id-2 div.sk-toggleable__content {max-height: 0;max-width: 0;overflow: hidden;text-align: left;background-color: #f0f8ff;}#sk-container-id-2 div.sk-toggleable__content pre {margin: 0.2em;color: black;border-radius: 0.25em;background-color: #f0f8ff;}#sk-container-id-2 input.sk-toggleable__control:checked~div.sk-toggleable__content {max-height: 200px;max-width: 100%;overflow: auto;}#sk-container-id-2 input.sk-toggleable__control:checked~label.sk-toggleable__label-arrow:before {content: \"▾\";}#sk-container-id-2 div.sk-estimator input.sk-toggleable__control:checked~label.sk-toggleable__label {background-color: #d4ebff;}#sk-container-id-2 div.sk-label input.sk-toggleable__control:checked~label.sk-toggleable__label {background-color: #d4ebff;}#sk-container-id-2 input.sk-hidden--visually {border: 0;clip: rect(1px 1px 1px 1px);clip: rect(1px, 1px, 1px, 1px);height: 1px;margin: -1px;overflow: hidden;padding: 0;position: absolute;width: 1px;}#sk-container-id-2 div.sk-estimator {font-family: monospace;background-color: #f0f8ff;border: 1px dotted black;border-radius: 0.25em;box-sizing: border-box;margin-bottom: 0.5em;}#sk-container-id-2 div.sk-estimator:hover {background-color: #d4ebff;}#sk-container-id-2 div.sk-parallel-item::after {content: \"\";width: 100%;border-bottom: 1px solid gray;flex-grow: 1;}#sk-container-id-2 div.sk-label:hover label.sk-toggleable__label {background-color: #d4ebff;}#sk-container-id-2 div.sk-serial::before {content: \"\";position: absolute;border-left: 1px solid gray;box-sizing: border-box;top: 0;bottom: 0;left: 50%;z-index: 0;}#sk-container-id-2 div.sk-serial {display: flex;flex-direction: column;align-items: center;background-color: white;padding-right: 0.2em;padding-left: 0.2em;position: relative;}#sk-container-id-2 div.sk-item {position: relative;z-index: 1;}#sk-container-id-2 div.sk-parallel {display: flex;align-items: stretch;justify-content: center;background-color: white;position: relative;}#sk-container-id-2 div.sk-item::before, #sk-container-id-2 div.sk-parallel-item::before {content: \"\";position: absolute;border-left: 1px solid gray;box-sizing: border-box;top: 0;bottom: 0;left: 50%;z-index: -1;}#sk-container-id-2 div.sk-parallel-item {display: flex;flex-direction: column;z-index: 1;position: relative;background-color: white;}#sk-container-id-2 div.sk-parallel-item:first-child::after {align-self: flex-end;width: 50%;}#sk-container-id-2 div.sk-parallel-item:last-child::after {align-self: flex-start;width: 50%;}#sk-container-id-2 div.sk-parallel-item:only-child::after {width: 0;}#sk-container-id-2 div.sk-dashed-wrapped {border: 1px dashed gray;margin: 0 0.4em 0.5em 0.4em;box-sizing: border-box;padding-bottom: 0.4em;background-color: white;}#sk-container-id-2 div.sk-label label {font-family: monospace;font-weight: bold;display: inline-block;line-height: 1.2em;}#sk-container-id-2 div.sk-label-container {text-align: center;}#sk-container-id-2 div.sk-container {/* jupyter's `normalize.less` sets `[hidden] { display: none; }` but bootstrap.min.css set `[hidden] { display: none !important; }` so we also need the `!important` here to be able to override the default hidden behavior on the sphinx rendered scikit-learn.org. See: https://github.com/scikit-learn/scikit-learn/issues/21755 */display: inline-block !important;position: relative;}#sk-container-id-2 div.sk-text-repr-fallback {display: none;}</style><div id=\"sk-container-id-2\" class=\"sk-top-container\"><div class=\"sk-text-repr-fallback\"><pre>RandomForestRegressor(n_estimators=1000, random_state=42)</pre><b>In a Jupyter environment, please rerun this cell to show the HTML representation or trust the notebook. <br />On GitHub, the HTML representation is unable to render, please try loading this page with nbviewer.org.</b></div><div class=\"sk-container\" hidden><div class=\"sk-item\"><div class=\"sk-estimator sk-toggleable\"><input class=\"sk-toggleable__control sk-hidden--visually\" id=\"sk-estimator-id-2\" type=\"checkbox\" checked><label for=\"sk-estimator-id-2\" class=\"sk-toggleable__label sk-toggleable__label-arrow\">RandomForestRegressor</label><div class=\"sk-toggleable__content\"><pre>RandomForestRegressor(n_estimators=1000, random_state=42)</pre></div></div></div></div></div>"
      ],
      "text/plain": [
       "RandomForestRegressor(n_estimators=1000, random_state=42)"
      ]
     },
     "execution_count": 13,
     "metadata": {},
     "output_type": "execute_result"
    }
   ],
   "source": [
    "from sklearn.ensemble import RandomForestRegressor\n",
    "regressor = RandomForestRegressor(n_estimators = 1000, random_state = 42)\n",
    "regressor.fit(X_train, y_train)"
   ]
  },
  {
   "cell_type": "code",
   "execution_count": 14,
   "id": "55db9232-b725-41a5-af6b-c4d1877796f2",
   "metadata": {},
   "outputs": [],
   "source": [
    "y_pred = regressor.predict(X_test)"
   ]
  },
  {
   "cell_type": "code",
   "execution_count": 15,
   "id": "d3637fe4-8a05-4f46-b8ba-bf4229e32a1a",
   "metadata": {},
   "outputs": [
    {
     "name": "stdout",
     "output_type": "stream",
     "text": [
      "Mean Absolute Error: 3.42 degrees.\n",
      "Accuracy: 70.14 %.\n"
     ]
    }
   ],
   "source": [
    "errors = abs(y_pred - y_test)\n",
    "print('Mean Absolute Error:', round(np.mean(errors), 2), 'degrees.')\n",
    "mape = 100 * (errors / y_test)\n",
    "accuracy = 100 - np.mean(mape)\n",
    "print('Accuracy:', round(accuracy, 2), '%.')"
   ]
  },
  {
   "cell_type": "code",
   "execution_count": 16,
   "id": "a5685fc9-b22d-4a89-baa4-200f3338e79e",
   "metadata": {},
   "outputs": [],
   "source": [
    "val = regressor.predict([[56500, 0.15, 1, 640, 12, 18]])"
   ]
  },
  {
   "cell_type": "code",
   "execution_count": 17,
   "id": "7c7ff84c-8856-4add-8e3d-6b18b667ef3e",
   "metadata": {},
   "outputs": [
    {
     "data": {
      "text/plain": [
       "16.352819999999966"
      ]
     },
     "execution_count": 17,
     "metadata": {},
     "output_type": "execute_result"
    }
   ],
   "source": [
    "val = float(val)\n",
    "val"
   ]
  },
  {
   "cell_type": "code",
   "execution_count": 18,
   "id": "d8b8f687-e205-4a56-9e82-ab349cf2ebe7",
   "metadata": {},
   "outputs": [],
   "source": [
    "pickle.dump(regressor, open('model.pkl','wb'))"
   ]
  },
  {
   "cell_type": "code",
   "execution_count": 30,
   "id": "bfb26d1f-bc7d-401c-bda4-bde07c45da56",
   "metadata": {},
   "outputs": [
    {
     "data": {
      "text/plain": [
       "0.1694"
      ]
     },
     "execution_count": 30,
     "metadata": {},
     "output_type": "execute_result"
    }
   ],
   "source": [
    "val = regressor.predict([[56000, 0.33, 1, 680, 12, 15]])\n",
    "val = float(val)\n",
    "val = round(val, 2)\n",
    "val = val/100\n",
    "val = round(val, 4)\n",
    "val"
   ]
  }
 ],
 "metadata": {
  "kernelspec": {
   "display_name": "Python 3 (ipykernel)",
   "language": "python",
   "name": "python3"
  },
  "language_info": {
   "codemirror_mode": {
    "name": "ipython",
    "version": 3
   },
   "file_extension": ".py",
   "mimetype": "text/x-python",
   "name": "python",
   "nbconvert_exporter": "python",
   "pygments_lexer": "ipython3",
   "version": "3.10.9"
  }
 },
 "nbformat": 4,
 "nbformat_minor": 5
}
